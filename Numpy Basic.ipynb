{
 "cells": [
  {
   "cell_type": "markdown",
   "id": "4e1e3dc9-9917-413f-af1a-56c7fd73f18f",
   "metadata": {},
   "source": [
    "Q1. Consider the below code to answer further questions:\n",
    "import numpy as np\n",
    "list_ = [ ‘1’ , ’2’ , ‘3’ , ‘4’ , ‘5’ ]\n",
    "array_list = np.array(object = list_)\n",
    "Is there any difference in the data type of variables list_ and array_list? If there is then write a code\n",
    "to print the data types of both the variables."
   ]
  },
  {
   "cell_type": "markdown",
   "id": "0248af5c-3988-44e7-bee2-c2ec4c9af040",
   "metadata": {},
   "source": [
    "Ans - Yes there is a difference in the data types between list_ and array_list. In Python, list_ is a Python list object, which can contain elements of any type. On the other hand, array_list is a NumPy array object, where all elements are coerced to a common data type during creation."
   ]
  },
  {
   "cell_type": "code",
   "execution_count": 5,
   "id": "9c70fd45-6fd9-45e2-b21e-8fdd16373ca6",
   "metadata": {},
   "outputs": [
    {
     "name": "stdout",
     "output_type": "stream",
     "text": [
      "Data type of list_:  <class 'list'>\n",
      "Data type of array_list:  <U1\n",
      "array_list. Since the elements are strings (e.g., '1', '2'), the data type here would be '<U1', which means Unicode strings of length 1 (single character strings).\n"
     ]
    }
   ],
   "source": [
    "import numpy as np\n",
    "\n",
    "list_ = ['1', '2', '3', '4', '5']\n",
    "array_list = np.array(object=list_)\n",
    "\n",
    "print(\"Data type of list_: \", type(list_))\n",
    "print(\"Data type of array_list: \", array_list.dtype)\n",
    "print(\"array_list, Since the elements are strings e.g., '1', '2', the data type here would be '<U1', which means Unicode strings of length 1\")"
   ]
  },
  {
   "cell_type": "markdown",
   "id": "fa5816cc-4b08-4e24-a418-db9f08dcc2b4",
   "metadata": {},
   "source": [
    "Q2. Write a code to print the data type of each and every element of both the variables list_ and\n",
    "arra_list."
   ]
  },
  {
   "cell_type": "code",
   "execution_count": 6,
   "id": "a3df280b-ea2c-46b9-b822-c0e273d1ef4a",
   "metadata": {},
   "outputs": [
    {
     "name": "stdout",
     "output_type": "stream",
     "text": [
      "Data types of elements in list_:\n",
      "<class 'str'>\n",
      "<class 'str'>\n",
      "<class 'str'>\n",
      "<class 'str'>\n",
      "<class 'str'>\n",
      "\n",
      "Data types of elements in array_list:\n",
      "<class 'numpy.str_'>\n",
      "<class 'numpy.str_'>\n",
      "<class 'numpy.str_'>\n",
      "<class 'numpy.str_'>\n",
      "<class 'numpy.str_'>\n"
     ]
    }
   ],
   "source": [
    "import numpy as np\n",
    "\n",
    "list_ = ['1', '2', '3', '4', '5']\n",
    "array_list = np.array(object=list_)\n",
    "\n",
    "print(\"Data types of elements in list_:\")\n",
    "for i in list_:\n",
    "    print(type(i))\n",
    "\n",
    "print(\"\\nData types of elements in array_list:\")\n",
    "for i in array_list:\n",
    "    print(type(i))\n"
   ]
  },
  {
   "cell_type": "markdown",
   "id": "a9010983-409f-4a88-8fb6-b11173034593",
   "metadata": {},
   "source": [
    "Q3. Considering the following changes in the variable, array_list:\n",
    "array_list = np.array(object = list_, dtype = int)\n",
    "Will there be any difference in the data type of the elements present in both the variables, list_ and\n",
    "arra_list? If so then print the data types of each and every element present in both the variables, list_\n",
    "and arra_list."
   ]
  },
  {
   "cell_type": "markdown",
   "id": "bef84eb6-f575-4c63-8d81-9e715c2485c9",
   "metadata": {},
   "source": [
    "Ans - Yes there will be a difference in the data types of the elements between list_ and array_list after the change. When creating array_list with dtype=int, NumPy will attempt to convert each element from the list_ (which contains strings) into integers. "
   ]
  },
  {
   "cell_type": "code",
   "execution_count": 7,
   "id": "c9798c39-2693-4a21-badf-d970eafaf703",
   "metadata": {},
   "outputs": [
    {
     "name": "stdout",
     "output_type": "stream",
     "text": [
      "Data types of elements in list_:\n",
      "<class 'str'>\n",
      "<class 'str'>\n",
      "<class 'str'>\n",
      "<class 'str'>\n",
      "<class 'str'>\n",
      "\n",
      "Data types of elements in array_list:\n",
      "<class 'numpy.int64'>\n",
      "<class 'numpy.int64'>\n",
      "<class 'numpy.int64'>\n",
      "<class 'numpy.int64'>\n",
      "<class 'numpy.int64'>\n"
     ]
    }
   ],
   "source": [
    "import numpy as np\n",
    "\n",
    "list_ = ['1', '2', '3', '4', '5']\n",
    "array_list = np.array(object=list_, dtype=int)\n",
    "\n",
    "print(\"Data types of elements in list_:\")\n",
    "for i in list_:\n",
    "    print(type(i))\n",
    "    \n",
    "print(\"\\nData types of elements in array_list:\")\n",
    "for i in array_list:\n",
    "    print(type(i))\n"
   ]
  },
  {
   "cell_type": "markdown",
   "id": "020921db-5efc-4afd-8e16-1c29feb7da23",
   "metadata": {},
   "source": [
    "Q4. Consider the below code to answer further questions:\n",
    "import numpy as np\n",
    "num_list = [ [ 1 , 2 , 3 ] , [ 4 , 5 , 6 ] ]\n",
    "num_array = np.array(object = num_list)\n",
    "\n",
    "Write a code to find the following characteristics of variable, num_array:\n",
    "(i) shape\n",
    "(ii) size"
   ]
  },
  {
   "cell_type": "code",
   "execution_count": 8,
   "id": "179a331f-3e47-4704-9bfc-b92d046bfe6d",
   "metadata": {},
   "outputs": [
    {
     "name": "stdout",
     "output_type": "stream",
     "text": [
      "Shape of num_array: (2, 3)\n",
      "Size of num_array: 6\n"
     ]
    }
   ],
   "source": [
    "import numpy as np\n",
    "\n",
    "num_list = [[1, 2, 3], [4, 5, 6]]\n",
    "num_array = np.array(object=num_list)\n",
    "\n",
    "print(\"Shape of num_array:\", num_array.shape)\n",
    "\n",
    "print(\"Size of num_array:\", num_array.size)"
   ]
  },
  {
   "cell_type": "markdown",
   "id": "a57ce56e-987c-47d8-b523-79a6352e55b5",
   "metadata": {},
   "source": [
    "a. num_array.shape gives the shape of the array num_array, which is (2, 3), indicating it has 2 rows and 3 columns.\n",
    "\n",
    "b. num_array.size gives the total number of elements in the array num_array, which is 6 in this case (2 rows * 3 columns)."
   ]
  },
  {
   "cell_type": "markdown",
   "id": "1def7eaa-f589-402b-8eed-c544854d5d31",
   "metadata": {},
   "source": [
    "Q5. Write a code to create numpy array of 3*3 matrix containing zeros only, using a numpy array\n",
    "creation function."
   ]
  },
  {
   "cell_type": "code",
   "execution_count": 9,
   "id": "991a1516-d948-4f72-b558-7c55273060c9",
   "metadata": {},
   "outputs": [
    {
     "name": "stdout",
     "output_type": "stream",
     "text": [
      "[[0 0 0]\n",
      " [0 0 0]\n",
      " [0 0 0]]\n"
     ]
    }
   ],
   "source": [
    "import numpy as np\n",
    "data = np.random.randint(0, 1, (3, 3))\n",
    "print(data)"
   ]
  },
  {
   "cell_type": "markdown",
   "id": "c5c2e3fa-b4bf-461d-8de5-78725dc3ff30",
   "metadata": {},
   "source": [
    "Q6. Create an identity matrix of shape (5,5) using numpy functions?"
   ]
  },
  {
   "cell_type": "code",
   "execution_count": 10,
   "id": "d42ea88e-4151-4592-8528-1621f1deba58",
   "metadata": {},
   "outputs": [
    {
     "name": "stdout",
     "output_type": "stream",
     "text": [
      "[[1 0 0 0 0]\n",
      " [0 1 0 0 0]\n",
      " [0 0 1 0 0]\n",
      " [0 0 0 1 0]\n",
      " [0 0 0 0 1]]\n"
     ]
    }
   ],
   "source": [
    "import numpy as np\n",
    "\n",
    "data1 = np.diag([1, 1, 1, 1, 1])\n",
    "print(data1)\n"
   ]
  },
  {
   "cell_type": "code",
   "execution_count": null,
   "id": "162e26ca-3d17-4971-a14f-80a18d44da6a",
   "metadata": {},
   "outputs": [],
   "source": []
  }
 ],
 "metadata": {
  "kernelspec": {
   "display_name": "Python 3 (ipykernel)",
   "language": "python",
   "name": "python3"
  },
  "language_info": {
   "codemirror_mode": {
    "name": "ipython",
    "version": 3
   },
   "file_extension": ".py",
   "mimetype": "text/x-python",
   "name": "python",
   "nbconvert_exporter": "python",
   "pygments_lexer": "ipython3",
   "version": "3.10.8"
  }
 },
 "nbformat": 4,
 "nbformat_minor": 5
}
